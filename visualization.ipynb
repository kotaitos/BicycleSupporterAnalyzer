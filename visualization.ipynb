{
 "cells": [
  {
   "cell_type": "code",
   "execution_count": null,
   "source": [
    "import csv\n",
    "import pandas as pd\n",
    "import matplotlib.pyplot as plt\n",
    "from settings import *\n",
    "from glob import glob"
   ],
   "outputs": [],
   "metadata": {}
  },
  {
   "cell_type": "code",
   "execution_count": null,
   "source": [
    "def import_all_data(root: str) -> dict:\n",
    "    result = {}\n",
    "    if root[-1] != '/':\n",
    "        root += '/'\n",
    "    for filetype in FILE_TYPES:\n",
    "        result[filetype] = import_data(root=root, filetype=filetype)\n",
    "    return result"
   ],
   "outputs": [],
   "metadata": {}
  },
  {
   "cell_type": "code",
   "execution_count": null,
   "source": [
    "def import_data(root:str, filetype: str) -> list:\n",
    "    files = glob(f'{root}*-{filetype}.csv')\n",
    "    file = files[0]\n",
    "    with open(file, 'r') as f:\n",
    "        reader = csv.reader(f)\n",
    "        csv_data = [row for row in reader]\n",
    "    header = csv_data[0]\n",
    "    data = [list(map(float, row)) for row in csv_data[1:]]\n",
    "    return [header] + data"
   ],
   "outputs": [],
   "metadata": {}
  },
  {
   "cell_type": "code",
   "execution_count": null,
   "source": [
    "def analyze_sensor_data(sensor_data: dict) -> dict:\n",
    "    for sensor_tyoe in sensor_data.keys():\n",
    "        df = pd.DataFrame(sensor_data[sensor_tyoe][1:], columns=sensor_data[sensor_tyoe][0])\n",
    "        df['time'] = [i / 10.0 for i in list(df.index)]\n",
    "        fig = plt.figure(figsize=(30, 5))\n",
    "        fig.suptitle(sensor_tyoe)\n",
    "        for idx, axis in enumerate(df.columns[:-1]):\n",
    "            ax = fig.add_subplot(1, 3, idx+1)\n",
    "            ax.set_title(axis)\n",
    "            ax.plot(df['time'], df[axis])\n",
    "        plt.show()"
   ],
   "outputs": [],
   "metadata": {}
  },
  {
   "cell_type": "code",
   "execution_count": null,
   "source": [
    "def main(root: str):\n",
    "    imported_data = import_all_data(root=root)\n",
    "    analyze_sensor_data(sensor_data=imported_data)"
   ],
   "outputs": [],
   "metadata": {}
  },
  {
   "cell_type": "code",
   "execution_count": null,
   "source": [
    "root = 'data'\n",
    "main(root=root)"
   ],
   "outputs": [],
   "metadata": {}
  },
  {
   "cell_type": "code",
   "execution_count": null,
   "source": [],
   "outputs": [],
   "metadata": {}
  }
 ],
 "metadata": {
  "orig_nbformat": 4,
  "language_info": {
   "name": "python",
   "version": "3.8.5",
   "mimetype": "text/x-python",
   "codemirror_mode": {
    "name": "ipython",
    "version": 3
   },
   "pygments_lexer": "ipython3",
   "nbconvert_exporter": "python",
   "file_extension": ".py"
  },
  "kernelspec": {
   "name": "python3",
   "display_name": "Python 3.8.5 64-bit ('env': venv)"
  },
  "interpreter": {
   "hash": "6b536adb872c8a1fc5b8df3b8bef965e819ccfa2ebb9a187370d8221657dbd2d"
  }
 },
 "nbformat": 4,
 "nbformat_minor": 2
}